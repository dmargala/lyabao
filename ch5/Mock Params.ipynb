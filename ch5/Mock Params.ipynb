{
 "cells": [
  {
   "cell_type": "code",
   "execution_count": 16,
   "metadata": {
    "collapsed": true
   },
   "outputs": [],
   "source": [
    "%matplotlib inline\n",
    "\n",
    "import glob\n",
    "import os\n",
    "\n",
    "import h5py\n",
    "import numpy as np\n",
    "import matplotlib as mpl\n",
    "import matplotlib.pyplot as plt\n",
    "import pandas as pd\n",
    "\n",
    "mpl.rcParams['axes.titlesize'] = 16\n",
    "mpl.rcParams['axes.labelsize'] = 14\n",
    "mpl.rcParams['figure.facecolor'] = 'white'\n",
    "mpl.rcParams['figure.figsize'] = (8, 6)\n",
    "mpl.rcParams['font.size'] = 12\n",
    "mpl.rcParams['legend.fontsize'] = 14\n",
    "# mpl.rcParams['text.usetex'] = True\n",
    "mpl.rcParams['xtick.direction'] = 'in'\n",
    "mpl.rcParams['xtick.labelsize'] = 14\n",
    "mpl.rcParams['ytick.direction'] = 'in'\n",
    "mpl.rcParams['ytick.labelsize'] = 14"
   ]
  },
  {
   "cell_type": "code",
   "execution_count": 17,
   "metadata": {
    "collapsed": true
   },
   "outputs": [],
   "source": [
    "mock_params = []\n",
    "num_mocks = 10\n",
    "for i in range(num_mocks):\n",
    "    mock_params.append(np.genfromtxt('../baofit/mock-{:03d}-save.pars'.format(i)))\n",
    "mock_params = np.array(mock_params)"
   ]
  },
  {
   "cell_type": "code",
   "execution_count": 18,
   "metadata": {
    "collapsed": true
   },
   "outputs": [],
   "source": [
    "alpha_para_index = 8\n",
    "alpha_perp_index = 9\n",
    "\n",
    "value_index = 1\n",
    "error_index = 2\n",
    "\n",
    "alpha_para = mock_params[:, alpha_para_index, value_index]\n",
    "alpha_para_error = mock_params[:, alpha_para_index, error_index]\n",
    "\n",
    "alpha_perp = mock_params[:, alpha_perp_index, value_index]\n",
    "alpha_perp_error = mock_params[:, alpha_perp_index, error_index]"
   ]
  },
  {
   "cell_type": "code",
   "execution_count": 19,
   "metadata": {
    "collapsed": false
   },
   "outputs": [
    {
     "data": {
      "text/plain": [
       "array([[ 0.02533364,  0.04117196],\n",
       "       [ 0.02136843,  0.04344745],\n",
       "       [ 0.02655719,  0.07036758],\n",
       "       [ 0.0311508 ,  0.05316708],\n",
       "       [ 0.02458563,  0.05655098],\n",
       "       [ 0.0270483 ,  0.14409621],\n",
       "       [ 0.03661457,  0.08436691],\n",
       "       [ 0.02535877,  0.04241707],\n",
       "       [ 0.02512201,  0.04194279],\n",
       "       [ 0.02076615,  0.05858979]])"
      ]
     },
     "execution_count": 19,
     "metadata": {},
     "output_type": "execute_result"
    }
   ],
   "source": [
    "mock_params[:, (8,9)][:, :, 2]"
   ]
  },
  {
   "cell_type": "code",
   "execution_count": 20,
   "metadata": {
    "collapsed": false
   },
   "outputs": [
    {
     "data": {
      "text/plain": [
       "array([ 0.02533364,  0.02136843,  0.02655719,  0.0311508 ,  0.02458563,\n",
       "        0.0270483 ,  0.03661457,  0.02535877,  0.02512201,  0.02076615])"
      ]
     },
     "execution_count": 20,
     "metadata": {},
     "output_type": "execute_result"
    }
   ],
   "source": [
    "alpha_para_error"
   ]
  },
  {
   "cell_type": "code",
   "execution_count": 21,
   "metadata": {
    "collapsed": false
   },
   "outputs": [
    {
     "data": {
      "text/plain": [
       "array([ 0.04117196,  0.04344745,  0.07036758,  0.05316708,  0.05655098,\n",
       "        0.14409621,  0.08436691,  0.04241707,  0.04194279,  0.05858979])"
      ]
     },
     "execution_count": 21,
     "metadata": {},
     "output_type": "execute_result"
    }
   ],
   "source": [
    "alpha_perp_error"
   ]
  },
  {
   "cell_type": "code",
   "execution_count": 22,
   "metadata": {
    "collapsed": true
   },
   "outputs": [],
   "source": [
    "alpha_para_weight = alpha_para_error**-2\n",
    "alpha_perp_weight = alpha_perp_error**-2"
   ]
  },
  {
   "cell_type": "code",
   "execution_count": 23,
   "metadata": {
    "collapsed": true
   },
   "outputs": [],
   "source": [
    "alpha_para_mean = np.average(alpha_para, weights=alpha_para_weight)\n",
    "alpha_perp_mean = np.average(alpha_perp, weights=alpha_perp_weight)"
   ]
  },
  {
   "cell_type": "code",
   "execution_count": 24,
   "metadata": {
    "collapsed": true
   },
   "outputs": [],
   "source": [
    "alpha_para_var = np.average((alpha_para - alpha_para_mean)**2, weights=alpha_para_weight)\n",
    "alpha_perp_var = np.average((alpha_perp - alpha_perp_mean)**2, weights=alpha_perp_weight)"
   ]
  },
  {
   "cell_type": "code",
   "execution_count": 25,
   "metadata": {
    "collapsed": true
   },
   "outputs": [],
   "source": [
    "def plot_xy(ix, iy):\n",
    "    fig, ax = plt.subplots(figsize=(8, 6))\n",
    "    \n",
    "    x = mock_params[:, ix, value_index]\n",
    "    x_err = mock_params[:, ix, error_index]\n",
    "    \n",
    "    y = mock_params[:, iy, value_index]\n",
    "    y_err = mock_params[:, iy, error_index]\n",
    "    \n",
    "    ax.scatter(x, y)\n",
    "    \n",
    "    ax.tick_params(direction='in', labelsize=16)\n",
    "    ax.grid(True)"
   ]
  },
  {
   "cell_type": "code",
   "execution_count": 26,
   "metadata": {
    "collapsed": false,
    "scrolled": false
   },
   "outputs": [
    {
     "data": {
      "image/png": "[encoded data removed]",
      "text/plain": [
       "<matplotlib.figure.Figure at 0x1183a1210>"
      ]
     },
     "metadata": {},
     "output_type": "display_data"
    }
   ],
   "source": [
    "plot_xy(1, 0)\n",
    "plt.xlabel(r'$b(1 + \\beta)$', fontsize=20)\n",
    "plt.ylabel(r'$\\beta$', fontsize=20)\n",
    "plt.ylim(0, 10)\n",
    "plt.show()"
   ]
  },
  {
   "cell_type": "code",
   "execution_count": 27,
   "metadata": {
    "collapsed": false
   },
   "outputs": [
    {
     "data": {
      "image/png": "[encoded data removed]",
      "text/plain": [
       "<matplotlib.figure.Figure at 0x1183c6a90>"
      ]
     },
     "metadata": {},
     "output_type": "display_data"
    }
   ],
   "source": [
    "fig, ax = plt.subplots(figsize=(8, 6))\n",
    "\n",
    "ax.errorbar(\n",
    "    alpha_perp, \n",
    "    alpha_para, \n",
    "    xerr=alpha_perp_error, \n",
    "    yerr=alpha_para_error, \n",
    "    marker='o', mew=1,\n",
    "    lw=0, elinewidth=1, label='Individual mocks')\n",
    "\n",
    "ax.errorbar(\n",
    "    alpha_perp_mean,\n",
    "    alpha_para_mean, \n",
    "    xerr=np.sqrt(alpha_perp_var/num_mocks),\n",
    "    yerr=np.sqrt(alpha_para_var/num_mocks),\n",
    "    marker='o',\n",
    "    label='Combined'\n",
    ")\n",
    "\n",
    "# ax.errorbar(\n",
    "#     alpha_perp_mean,\n",
    "#     alpha_para_mean, \n",
    "#     xerr=np.sqrt(1.0/np.sum(alpha_perp_weight)),\n",
    "#     yerr=np.sqrt(1.0/np.sum(alpha_para_weight)),\n",
    "#     label='Weighted Std Dev'\n",
    "# )\n",
    "\n",
    "# ax.set_ylim(0.5, 1.5)\n",
    "# ax.set_xlim(0.5, 1.5)\n",
    "\n",
    "ax.set_xlabel(r'$\\alpha_\\perp$', fontsize=20)\n",
    "ax.set_ylabel(r'$\\alpha_\\parallel$', fontsize=20)\n",
    "\n",
    "ax.tick_params(labelsize=16)\n",
    "\n",
    "ax.legend(fontsize='large')\n",
    "\n",
    "ax.grid(True)"
   ]
  },
  {
   "cell_type": "code",
   "execution_count": 28,
   "metadata": {
    "collapsed": true
   },
   "outputs": [],
   "source": [
    "noiseless = np.loadtxt('pylya_summary_full.txt')"
   ]
  },
  {
   "cell_type": "code",
   "execution_count": 29,
   "metadata": {
    "collapsed": false
   },
   "outputs": [
    {
     "data": {
      "text/plain": [
       "array([ 0.      ,  0.991826,  1.021613])"
      ]
     },
     "execution_count": 29,
     "metadata": {},
     "output_type": "execute_result"
    }
   ],
   "source": [
    "noiseless[0, (0, 1, 4)]"
   ]
  },
  {
   "cell_type": "code",
   "execution_count": 30,
   "metadata": {
    "collapsed": false
   },
   "outputs": [
    {
     "data": {
      "image/png": "[encoded data removed]",
      "text/plain": [
       "<matplotlib.figure.Figure at 0x118992c10>"
      ]
     },
     "metadata": {},
     "output_type": "display_data"
    }
   ],
   "source": [
    "fig, ax = plt.subplots(figsize=(8, 6))\n",
    "\n",
    "for name, marker in zip(('noiseless', 'full'), ('+', 'x')):\n",
    "    summary = np.loadtxt('pylya_summary_{}.txt'.format(name))\n",
    "\n",
    "    i, ap, ap_err_lo, ap_err_hi, at, at_err_lo, at_err_hi = summary[:, (0, 1, 2, 3, 4, 5, 6)].T\n",
    "\n",
    "    ax.errorbar(\n",
    "        at[:10], \n",
    "        ap[:10], \n",
    "        marker=marker, mew=1,\n",
    "        lw=0, elinewidth=1, label='BOSS {}'.format(name))\n",
    "\n",
    "    \n",
    "ax.errorbar(\n",
    "    alpha_perp, \n",
    "    alpha_para, \n",
    "    marker='.', mew=1,\n",
    "    lw=0, elinewidth=1, label='Margala')\n",
    "\n",
    "\n",
    "ax.set_ylim(0.8, 1.2)\n",
    "ax.set_xlim(0.8, 1.2)\n",
    "\n",
    "ax.set_xlabel(r'$\\alpha_\\perp$')\n",
    "ax.set_ylabel(r'$\\alpha_\\parallel$')\n",
    "\n",
    "ax.legend(fontsize='large')\n",
    "# ax.set_aspect('equal')\n",
    "\n",
    "ax.grid(True)\n",
    "\n",
    "plt.savefig('mock-alphas.png', dpi=100, bbox_inches='tight')"
   ]
  },
  {
   "cell_type": "code",
   "execution_count": null,
   "metadata": {
    "collapsed": true
   },
   "outputs": [],
   "source": []
  },
  {
   "cell_type": "code",
   "execution_count": null,
   "metadata": {
    "collapsed": true
   },
   "outputs": [],
   "source": []
  }
 ],
 "metadata": {
  "kernelspec": {
   "display_name": "Python 2",
   "language": "python",
   "name": "python2"
  },
  "language_info": {
   "codemirror_mode": {
    "name": "ipython",
    "version": 2
   },
   "file_extension": ".py",
   "mimetype": "text/x-python",
   "name": "python",
   "nbconvert_exporter": "python",
   "pygments_lexer": "ipython2",
   "version": "2.7.13"
  }
 },
 "nbformat": 4,
 "nbformat_minor": 2
}
